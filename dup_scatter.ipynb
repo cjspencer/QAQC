{
 "cells": [
  {
   "cell_type": "code",
   "execution_count": 268,
   "metadata": {
    "collapsed": false
   },
   "outputs": [],
   "source": [
    "import pandas as pd\n",
    "import numpy as np\n",
    "%matplotlib inline\n",
    "import matplotlib.pyplot as plt\n",
    "import seaborn as sns"
   ]
  },
  {
   "cell_type": "code",
   "execution_count": 265,
   "metadata": {
    "collapsed": false
   },
   "outputs": [
    {
     "name": "stdout",
     "output_type": "stream",
     "text": [
      "[u'Sheet1']\n"
     ]
    }
   ],
   "source": [
    "file = 'WitSampPlot.xlsx'\n",
    "xl = pd.ExcelFile(file)\n",
    "print((xl.sheet_names))\n",
    "\n"
   ]
  },
  {
   "cell_type": "code",
   "execution_count": 266,
   "metadata": {
    "collapsed": false
   },
   "outputs": [],
   "source": [
    "df = xl.parse('Sheet1')\n",
    "groups = df.groupby('Comment')"
   ]
  },
  {
   "cell_type": "code",
   "execution_count": 267,
   "metadata": {
    "collapsed": false
   },
   "outputs": [
    {
     "data": {
      "text/plain": [
       "Index([u'X', u'Y', u'Z', u'A0', u'B0', u'LITH1', u'STRAT_MJ', u'WEATH1',\n",
       "       u'SAMPLEID', u'TCU_PCT', u'LENGTH', u'NEW SAMPLEID', u'Comment',\n",
       "       u'BV Assay', u'Seq', u'Cu', u'Cu%', u'S', u'S%', u'Ratio'],\n",
       "      dtype='object')"
      ]
     },
     "execution_count": 267,
     "metadata": {},
     "output_type": "execute_result"
    }
   ],
   "source": [
    "df.columns"
   ]
  },
  {
   "cell_type": "code",
   "execution_count": null,
   "metadata": {
    "collapsed": false
   },
   "outputs": [],
   "source": []
  },
  {
   "cell_type": "code",
   "execution_count": null,
   "metadata": {
    "collapsed": false
   },
   "outputs": [],
   "source": [
    "\n",
    "\n"
   ]
  },
  {
   "cell_type": "code",
   "execution_count": 269,
   "metadata": {
    "collapsed": false
   },
   "outputs": [],
   "source": [
    "df1 = df.loc[(df[\"Comment\"]==\"Whole\") | (df[\"Comment\"]==\"Broken core\")]"
   ]
  },
  {
   "cell_type": "code",
   "execution_count": 42,
   "metadata": {
    "collapsed": false
   },
   "outputs": [
    {
     "data": {
      "text/html": [
       "<div>\n",
       "<table border=\"1\" class=\"dataframe\">\n",
       "  <thead>\n",
       "    <tr style=\"text-align: right;\">\n",
       "      <th></th>\n",
       "      <th>X</th>\n",
       "      <th>Y</th>\n",
       "      <th>Z</th>\n",
       "      <th>A0</th>\n",
       "      <th>B0</th>\n",
       "      <th>LITH1</th>\n",
       "      <th>STRAT_MJ</th>\n",
       "      <th>WEATH1</th>\n",
       "      <th>SAMPLEID</th>\n",
       "      <th>TCU_PCT</th>\n",
       "      <th>LENGTH</th>\n",
       "      <th>NEW SAMPLEID</th>\n",
       "      <th>Comment</th>\n",
       "      <th>BV Assay</th>\n",
       "      <th>Seq</th>\n",
       "      <th>Cu</th>\n",
       "      <th>Cu%</th>\n",
       "      <th>S</th>\n",
       "      <th>S%</th>\n",
       "      <th>Ratio</th>\n",
       "    </tr>\n",
       "  </thead>\n",
       "  <tbody>\n",
       "    <tr>\n",
       "      <th>0</th>\n",
       "      <td>297797.39</td>\n",
       "      <td>8794009.48</td>\n",
       "      <td>1301.72</td>\n",
       "      <td>270.00</td>\n",
       "      <td>90.00</td>\n",
       "      <td>SDT</td>\n",
       "      <td>Ki1.1.1</td>\n",
       "      <td>MW</td>\n",
       "      <td>DD212810</td>\n",
       "      <td>0.039</td>\n",
       "      <td>1</td>\n",
       "      <td>DD203137</td>\n",
       "      <td>Broken core</td>\n",
       "      <td>DD203137</td>\n",
       "      <td>2.0</td>\n",
       "      <td>368.0</td>\n",
       "      <td>0.0368</td>\n",
       "      <td>100.0</td>\n",
       "      <td>0.010</td>\n",
       "      <td>0.943590</td>\n",
       "    </tr>\n",
       "    <tr>\n",
       "      <th>1</th>\n",
       "      <td>301602.08</td>\n",
       "      <td>8794356.71</td>\n",
       "      <td>1064.09</td>\n",
       "      <td>205.38</td>\n",
       "      <td>84.13</td>\n",
       "      <td>SDT</td>\n",
       "      <td>Ki1.1.1</td>\n",
       "      <td>FR</td>\n",
       "      <td>DD212931</td>\n",
       "      <td>1.140</td>\n",
       "      <td>1</td>\n",
       "      <td>DD203138</td>\n",
       "      <td>Whole</td>\n",
       "      <td>DD203138</td>\n",
       "      <td>3.0</td>\n",
       "      <td>10900.0</td>\n",
       "      <td>1.0900</td>\n",
       "      <td>4200.0</td>\n",
       "      <td>0.420</td>\n",
       "      <td>0.956140</td>\n",
       "    </tr>\n",
       "    <tr>\n",
       "      <th>4</th>\n",
       "      <td>301396.97</td>\n",
       "      <td>8794298.16</td>\n",
       "      <td>1067.80</td>\n",
       "      <td>228.16</td>\n",
       "      <td>88.83</td>\n",
       "      <td>SDT</td>\n",
       "      <td>Ki1.1.1</td>\n",
       "      <td>FR</td>\n",
       "      <td>DD224651</td>\n",
       "      <td>1.570</td>\n",
       "      <td>1</td>\n",
       "      <td>DD203140</td>\n",
       "      <td>Whole</td>\n",
       "      <td>DD203140</td>\n",
       "      <td>6.0</td>\n",
       "      <td>15600.0</td>\n",
       "      <td>1.5600</td>\n",
       "      <td>5200.0</td>\n",
       "      <td>0.520</td>\n",
       "      <td>0.993631</td>\n",
       "    </tr>\n",
       "    <tr>\n",
       "      <th>5</th>\n",
       "      <td>302203.99</td>\n",
       "      <td>8794294.65</td>\n",
       "      <td>990.51</td>\n",
       "      <td>191.36</td>\n",
       "      <td>89.09</td>\n",
       "      <td>SDT</td>\n",
       "      <td>Ki1.1.1</td>\n",
       "      <td>FR</td>\n",
       "      <td>DD225166</td>\n",
       "      <td>1.430</td>\n",
       "      <td>1</td>\n",
       "      <td>DD203141</td>\n",
       "      <td>Whole</td>\n",
       "      <td>DD203141</td>\n",
       "      <td>7.0</td>\n",
       "      <td>13700.0</td>\n",
       "      <td>1.3700</td>\n",
       "      <td>4250.0</td>\n",
       "      <td>0.425</td>\n",
       "      <td>0.958042</td>\n",
       "    </tr>\n",
       "    <tr>\n",
       "      <th>6</th>\n",
       "      <td>301998.68</td>\n",
       "      <td>8794887.94</td>\n",
       "      <td>1074.99</td>\n",
       "      <td>192.93</td>\n",
       "      <td>85.34</td>\n",
       "      <td>SSL</td>\n",
       "      <td>Ki1.1.1</td>\n",
       "      <td>FR</td>\n",
       "      <td>DD225274</td>\n",
       "      <td>8.660</td>\n",
       "      <td>1</td>\n",
       "      <td>DD203143</td>\n",
       "      <td>Broken core</td>\n",
       "      <td>DD203143</td>\n",
       "      <td>9.0</td>\n",
       "      <td>105000.0</td>\n",
       "      <td>10.5000</td>\n",
       "      <td>26400.0</td>\n",
       "      <td>2.640</td>\n",
       "      <td>1.212471</td>\n",
       "    </tr>\n",
       "  </tbody>\n",
       "</table>\n",
       "</div>"
      ],
      "text/plain": [
       "           X           Y        Z      A0     B0 LITH1 STRAT_MJ WEATH1  \\\n",
       "0  297797.39  8794009.48  1301.72  270.00  90.00   SDT  Ki1.1.1     MW   \n",
       "1  301602.08  8794356.71  1064.09  205.38  84.13   SDT  Ki1.1.1     FR   \n",
       "4  301396.97  8794298.16  1067.80  228.16  88.83   SDT  Ki1.1.1     FR   \n",
       "5  302203.99  8794294.65   990.51  191.36  89.09   SDT  Ki1.1.1     FR   \n",
       "6  301998.68  8794887.94  1074.99  192.93  85.34   SSL  Ki1.1.1     FR   \n",
       "\n",
       "   SAMPLEID  TCU_PCT  LENGTH NEW SAMPLEID      Comment  BV Assay  Seq  \\\n",
       "0  DD212810    0.039       1     DD203137  Broken core  DD203137  2.0   \n",
       "1  DD212931    1.140       1     DD203138        Whole  DD203138  3.0   \n",
       "4  DD224651    1.570       1     DD203140        Whole  DD203140  6.0   \n",
       "5  DD225166    1.430       1     DD203141        Whole  DD203141  7.0   \n",
       "6  DD225274    8.660       1     DD203143  Broken core  DD203143  9.0   \n",
       "\n",
       "         Cu      Cu%        S     S%     Ratio  \n",
       "0     368.0   0.0368    100.0  0.010  0.943590  \n",
       "1   10900.0   1.0900   4200.0  0.420  0.956140  \n",
       "4   15600.0   1.5600   5200.0  0.520  0.993631  \n",
       "5   13700.0   1.3700   4250.0  0.425  0.958042  \n",
       "6  105000.0  10.5000  26400.0  2.640  1.212471  "
      ]
     },
     "execution_count": 42,
     "metadata": {},
     "output_type": "execute_result"
    }
   ],
   "source": [
    "df1.head()"
   ]
  },
  {
   "cell_type": "code",
   "execution_count": 270,
   "metadata": {
    "collapsed": false
   },
   "outputs": [],
   "source": [
    "df1 = df1.rename(columns={'Comment':'Sample Type'})"
   ]
  },
  {
   "cell_type": "code",
   "execution_count": 271,
   "metadata": {
    "collapsed": false,
    "scrolled": false
   },
   "outputs": [
    {
     "data": {
      "text/html": [
       "<div>\n",
       "<table border=\"1\" class=\"dataframe\">\n",
       "  <thead>\n",
       "    <tr style=\"text-align: right;\">\n",
       "      <th></th>\n",
       "      <th>X</th>\n",
       "      <th>Y</th>\n",
       "      <th>Z</th>\n",
       "      <th>A0</th>\n",
       "      <th>B0</th>\n",
       "      <th>LITH1</th>\n",
       "      <th>STRAT_MJ</th>\n",
       "      <th>WEATH1</th>\n",
       "      <th>SAMPLEID</th>\n",
       "      <th>TCU_PCT</th>\n",
       "      <th>LENGTH</th>\n",
       "      <th>NEW SAMPLEID</th>\n",
       "      <th>Sample Type</th>\n",
       "      <th>BV Assay</th>\n",
       "      <th>Seq</th>\n",
       "      <th>Cu</th>\n",
       "      <th>Cu%</th>\n",
       "      <th>S</th>\n",
       "      <th>S%</th>\n",
       "      <th>Ratio</th>\n",
       "    </tr>\n",
       "  </thead>\n",
       "  <tbody>\n",
       "    <tr>\n",
       "      <th>0</th>\n",
       "      <td>297797.39</td>\n",
       "      <td>8794009.48</td>\n",
       "      <td>1301.72</td>\n",
       "      <td>270.00</td>\n",
       "      <td>90.00</td>\n",
       "      <td>SDT</td>\n",
       "      <td>Ki1.1.1</td>\n",
       "      <td>MW</td>\n",
       "      <td>DD212810</td>\n",
       "      <td>0.039</td>\n",
       "      <td>1</td>\n",
       "      <td>DD203137</td>\n",
       "      <td>Broken core</td>\n",
       "      <td>DD203137</td>\n",
       "      <td>2.0</td>\n",
       "      <td>368.0</td>\n",
       "      <td>0.0368</td>\n",
       "      <td>100.0</td>\n",
       "      <td>0.010</td>\n",
       "      <td>0.943590</td>\n",
       "    </tr>\n",
       "    <tr>\n",
       "      <th>1</th>\n",
       "      <td>301602.08</td>\n",
       "      <td>8794356.71</td>\n",
       "      <td>1064.09</td>\n",
       "      <td>205.38</td>\n",
       "      <td>84.13</td>\n",
       "      <td>SDT</td>\n",
       "      <td>Ki1.1.1</td>\n",
       "      <td>FR</td>\n",
       "      <td>DD212931</td>\n",
       "      <td>1.140</td>\n",
       "      <td>1</td>\n",
       "      <td>DD203138</td>\n",
       "      <td>Whole</td>\n",
       "      <td>DD203138</td>\n",
       "      <td>3.0</td>\n",
       "      <td>10900.0</td>\n",
       "      <td>1.0900</td>\n",
       "      <td>4200.0</td>\n",
       "      <td>0.420</td>\n",
       "      <td>0.956140</td>\n",
       "    </tr>\n",
       "    <tr>\n",
       "      <th>4</th>\n",
       "      <td>301396.97</td>\n",
       "      <td>8794298.16</td>\n",
       "      <td>1067.80</td>\n",
       "      <td>228.16</td>\n",
       "      <td>88.83</td>\n",
       "      <td>SDT</td>\n",
       "      <td>Ki1.1.1</td>\n",
       "      <td>FR</td>\n",
       "      <td>DD224651</td>\n",
       "      <td>1.570</td>\n",
       "      <td>1</td>\n",
       "      <td>DD203140</td>\n",
       "      <td>Whole</td>\n",
       "      <td>DD203140</td>\n",
       "      <td>6.0</td>\n",
       "      <td>15600.0</td>\n",
       "      <td>1.5600</td>\n",
       "      <td>5200.0</td>\n",
       "      <td>0.520</td>\n",
       "      <td>0.993631</td>\n",
       "    </tr>\n",
       "    <tr>\n",
       "      <th>5</th>\n",
       "      <td>302203.99</td>\n",
       "      <td>8794294.65</td>\n",
       "      <td>990.51</td>\n",
       "      <td>191.36</td>\n",
       "      <td>89.09</td>\n",
       "      <td>SDT</td>\n",
       "      <td>Ki1.1.1</td>\n",
       "      <td>FR</td>\n",
       "      <td>DD225166</td>\n",
       "      <td>1.430</td>\n",
       "      <td>1</td>\n",
       "      <td>DD203141</td>\n",
       "      <td>Whole</td>\n",
       "      <td>DD203141</td>\n",
       "      <td>7.0</td>\n",
       "      <td>13700.0</td>\n",
       "      <td>1.3700</td>\n",
       "      <td>4250.0</td>\n",
       "      <td>0.425</td>\n",
       "      <td>0.958042</td>\n",
       "    </tr>\n",
       "    <tr>\n",
       "      <th>6</th>\n",
       "      <td>301998.68</td>\n",
       "      <td>8794887.94</td>\n",
       "      <td>1074.99</td>\n",
       "      <td>192.93</td>\n",
       "      <td>85.34</td>\n",
       "      <td>SSL</td>\n",
       "      <td>Ki1.1.1</td>\n",
       "      <td>FR</td>\n",
       "      <td>DD225274</td>\n",
       "      <td>8.660</td>\n",
       "      <td>1</td>\n",
       "      <td>DD203143</td>\n",
       "      <td>Broken core</td>\n",
       "      <td>DD203143</td>\n",
       "      <td>9.0</td>\n",
       "      <td>105000.0</td>\n",
       "      <td>10.5000</td>\n",
       "      <td>26400.0</td>\n",
       "      <td>2.640</td>\n",
       "      <td>1.212471</td>\n",
       "    </tr>\n",
       "  </tbody>\n",
       "</table>\n",
       "</div>"
      ],
      "text/plain": [
       "           X           Y        Z      A0     B0 LITH1 STRAT_MJ WEATH1  \\\n",
       "0  297797.39  8794009.48  1301.72  270.00  90.00   SDT  Ki1.1.1     MW   \n",
       "1  301602.08  8794356.71  1064.09  205.38  84.13   SDT  Ki1.1.1     FR   \n",
       "4  301396.97  8794298.16  1067.80  228.16  88.83   SDT  Ki1.1.1     FR   \n",
       "5  302203.99  8794294.65   990.51  191.36  89.09   SDT  Ki1.1.1     FR   \n",
       "6  301998.68  8794887.94  1074.99  192.93  85.34   SSL  Ki1.1.1     FR   \n",
       "\n",
       "   SAMPLEID  TCU_PCT  LENGTH NEW SAMPLEID  Sample Type  BV Assay  Seq  \\\n",
       "0  DD212810    0.039       1     DD203137  Broken core  DD203137  2.0   \n",
       "1  DD212931    1.140       1     DD203138        Whole  DD203138  3.0   \n",
       "4  DD224651    1.570       1     DD203140        Whole  DD203140  6.0   \n",
       "5  DD225166    1.430       1     DD203141        Whole  DD203141  7.0   \n",
       "6  DD225274    8.660       1     DD203143  Broken core  DD203143  9.0   \n",
       "\n",
       "         Cu      Cu%        S     S%     Ratio  \n",
       "0     368.0   0.0368    100.0  0.010  0.943590  \n",
       "1   10900.0   1.0900   4200.0  0.420  0.956140  \n",
       "4   15600.0   1.5600   5200.0  0.520  0.993631  \n",
       "5   13700.0   1.3700   4250.0  0.425  0.958042  \n",
       "6  105000.0  10.5000  26400.0  2.640  1.212471  "
      ]
     },
     "execution_count": 271,
     "metadata": {},
     "output_type": "execute_result"
    }
   ],
   "source": [
    "df1.head()"
   ]
  },
  {
   "cell_type": "code",
   "execution_count": 273,
   "metadata": {
    "collapsed": false,
    "scrolled": true
   },
   "outputs": [
    {
     "data": {
      "text/plain": [
       "<matplotlib.figure.Figure at 0x14c59860>"
      ]
     },
     "metadata": {},
     "output_type": "display_data"
    },
    {
     "data": {
      "image/png": "[encoded data removed]",
      "text/plain": [
       "<matplotlib.figure.Figure at 0x1560f550>"
      ]
     },
     "metadata": {},
     "output_type": "display_data"
    }
   ],
   "source": [
    "sns.set_context('paper')\n",
    "sns.set_style('darkgrid')\n",
    "\n",
    "fig = plt.figure(figsize=(20,20))\n",
    "\n",
    "\n",
    "\n",
    "\n",
    "\n",
    "\n",
    "# lm= sns.lmplot(x=\"TCU_PCT\", y=\"Cu%\", hue=\"Sample Type\", data=df1, ci = False, fit_reg=False)\n",
    "# sns.regplot(x='TCU_PCT', y='Cu%', data=df1, scatter=False, ax=g.axes[0,0])\n",
    "\n",
    "lm= sns.lmplot(x=\"TCU_PCT\", y=\"Cu%\", hue=\"Sample Type\", data=df1, ci = None, fit_reg=False)\n",
    "sns.regplot(x='TCU_PCT', y='Cu%', data=df1, ci = None, scatter=False, ax=lm.axes[0,0])\n",
    "\n",
    "\n",
    "\n",
    "\n",
    "\n",
    "sns.plt.ylim(-0.25,14)\n",
    "sns.plt.xlim(-0.25,14)\n",
    "\n",
    "\n",
    "\n",
    "\n",
    "lm.savefig(\"duplicates.pdf\")"
   ]
  },
  {
   "cell_type": "code",
   "execution_count": null,
   "metadata": {
    "collapsed": false
   },
   "outputs": [],
   "source": []
  },
  {
   "cell_type": "code",
   "execution_count": null,
   "metadata": {
    "collapsed": false,
    "scrolled": true
   },
   "outputs": [],
   "source": []
  },
  {
   "cell_type": "code",
   "execution_count": null,
   "metadata": {
    "collapsed": false
   },
   "outputs": [],
   "source": []
  },
  {
   "cell_type": "code",
   "execution_count": null,
   "metadata": {
    "collapsed": false
   },
   "outputs": [],
   "source": []
  },
  {
   "cell_type": "code",
   "execution_count": null,
   "metadata": {
    "collapsed": false,
    "scrolled": true
   },
   "outputs": [],
   "source": []
  },
  {
   "cell_type": "code",
   "execution_count": null,
   "metadata": {
    "collapsed": false
   },
   "outputs": [],
   "source": []
  },
  {
   "cell_type": "code",
   "execution_count": null,
   "metadata": {
    "collapsed": false,
    "scrolled": true
   },
   "outputs": [],
   "source": []
  },
  {
   "cell_type": "code",
   "execution_count": null,
   "metadata": {
    "collapsed": false,
    "scrolled": true
   },
   "outputs": [],
   "source": []
  },
  {
   "cell_type": "code",
   "execution_count": null,
   "metadata": {
    "collapsed": false,
    "scrolled": true
   },
   "outputs": [],
   "source": []
  },
  {
   "cell_type": "code",
   "execution_count": 255,
   "metadata": {
    "collapsed": false
   },
   "outputs": [
    {
     "name": "stdout",
     "output_type": "stream",
     "text": [
      "                            OLS Regression Results                            \n",
      "==============================================================================\n",
      "Dep. Variable:                      y   R-squared:                       0.990\n",
      "Model:                            OLS   Adj. R-squared:                  0.990\n",
      "Method:                 Least Squares   F-statistic:                     9880.\n",
      "Date:                Thu, 16 Mar 2017   Prob (F-statistic):          3.35e-100\n",
      "Time:                        15:54:52   Log-Likelihood:                 214.33\n",
      "No. Observations:                 100   AIC:                            -424.7\n",
      "Df Residuals:                      98   BIC:                            -419.4\n",
      "Df Model:                           1                                         \n",
      "Covariance Type:            nonrobust                                         \n",
      "==============================================================================\n",
      "                 coef    std err          t      P>|t|      [95.0% Conf. Int.]\n",
      "------------------------------------------------------------------------------\n",
      "const          0.0504      0.006      8.794      0.000         0.039     0.062\n",
      "x1             1.0046      0.010     99.398      0.000         0.985     1.025\n",
      "==============================================================================\n",
      "Omnibus:                       31.641   Durbin-Watson:                   2.276\n",
      "Prob(Omnibus):                  0.000   Jarque-Bera (JB):                6.155\n",
      "Skew:                          -0.136   Prob(JB):                       0.0461\n",
      "Kurtosis:                       1.815   Cond. No.                         4.43\n",
      "==============================================================================\n",
      "\n",
      "Warnings:\n",
      "[1] Standard Errors assume that the covariance matrix of the errors is correctly specified.\n"
     ]
    },
    {
     "data": {
      "image/png": "[encoded data removed]",
      "text/plain": [
       "<matplotlib.figure.Figure at 0x19dedb70>"
      ]
     },
     "metadata": {},
     "output_type": "display_data"
    }
   ],
   "source": [
    "import statsmodels.api as sm\n",
    "import numpy as np\n",
    "import matplotlib.pyplot as plt\n",
    "\n",
    "X = np.random.rand(100)\n",
    "Y = X + np.random.rand(100)*0.1\n",
    "\n",
    "results = sm.OLS(Y,sm.add_constant(X)).fit()\n",
    "\n",
    "print results.summary()\n",
    "\n",
    "plt.scatter(X,Y)\n",
    "\n",
    "X_plot = np.linspace(0,1,100)\n",
    "plt.plot(X_plot, X_plot*results.params[0] + results.params[1])\n",
    "\n",
    "plt.show()"
   ]
  },
  {
   "cell_type": "code",
   "execution_count": null,
   "metadata": {
    "collapsed": true
   },
   "outputs": [],
   "source": []
  }
 ],
 "metadata": {
  "kernelspec": {
   "display_name": "Python 2",
   "language": "python",
   "name": "python2"
  },
  "language_info": {
   "codemirror_mode": {
    "name": "ipython",
    "version": 2
   },
   "file_extension": ".py",
   "mimetype": "text/x-python",
   "name": "python",
   "nbconvert_exporter": "python",
   "pygments_lexer": "ipython2",
   "version": "2.7.13"
  }
 },
 "nbformat": 4,
 "nbformat_minor": 0
}
